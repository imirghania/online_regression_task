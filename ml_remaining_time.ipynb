{
  "cells": [
    {
      "cell_type": "markdown",
      "metadata": {
        "id": "view-in-github",
        "colab_type": "text"
      },
      "source": [
        "<a href=\"https://colab.research.google.com/github/imirghania/online_regression_task/blob/main/ml_remaining_time.ipynb\" target=\"_parent\"><img src=\"https://colab.research.google.com/assets/colab-badge.svg\" alt=\"Open In Colab\"/></a>"
      ]
    },
    {
      "metadata": {
        "id": "a2e79a0587705298"
      },
      "cell_type": "markdown",
      "source": [
        "# Expected completion time\n",
        "\n",
        "Imagine being a team lead of an ML group. Recently a fresh graduate joins your team, as a part of the onboarding you gave him a task to implement module that predicts the expected remaining completion time for series of similar tasks like for example sequence of gradient descent updates applied to the neural network during learning (`tqdm` has ETA for that, but you believe that it is not good enough). After a brief time he returned to you with the suggestion that fitting transformer neural networks for the task is the perfect solution for the problem as transformers and their variants are SOTA for many of sequence processing tasks. Although frustrated with the degree of overkill you decided to demonstrate your soft skills and encourage him to implement his idea while providing simple baseline based on linear regression in online format.\n",
        "\n",
        "So the problem is as follows: you observe sequence of $n$ events that occurs at timestamps $t_1, t_2, \\ldots, t_n$, at each iteration $i$ you want to have an estimate of $t_n-t_i$ based on linear regression constructed from $t_1, t_2, \\ldots, t_i$, i.e. prediction $y_j$ is made by the formula\n",
        "$$\n",
        "y_j=kj+b\n",
        "$$\n",
        "and $k, b$ are chosen in a way that minimizes\n",
        "$$\n",
        "\\sum_{j=1}^i(t_j-y_j)^2\n",
        "$$"
      ],
      "id": "a2e79a0587705298"
    },
    {
      "cell_type": "markdown",
      "source": [
        "## Mathematical formulation"
      ],
      "metadata": {
        "id": "etPPc67GLM59"
      },
      "id": "etPPc67GLM59"
    },
    {
      "cell_type": "markdown",
      "source": [
        "$L = \\sum_{j=1}^{i}(t_j - y_j)^2 \\quad = \\quad \\sum_{j=1}^{i}(t_j - (kj+b))^2$\n"
      ],
      "metadata": {
        "id": "I-n2NmY-KL2m"
      },
      "id": "I-n2NmY-KL2m"
    },
    {
      "cell_type": "markdown",
      "source": [
        "$\\frac{\\partial L}{\\partial k} \\quad = \\quad 2\\sum_{j=1}^{i} - j(t_j-(kj+b)) = \\quad 2\\sum_{j=1}^{i}j((kj+b) - t_j)$\n",
        "\n",
        "$\\frac{\\partial L}{\\partial k} = 0 \\quad \\Rightarrow \\quad \\sum_{j=1}^{i}j((kj+b) - t_j) = 0$\n",
        "\n",
        "$\\Rightarrow \\quad \\sum_{j=1}^{i}(kj^2 + bj - jt_j) = 0$\n",
        "\n",
        "$\\Rightarrow \\quad k\\sum_{j=1}^{i}j^2 + b\\sum_{j=1}^{i}j - \\sum_{j=1}^{i}jt_j = 0$\n",
        "\n",
        "$\\therefore \\quad k\\sum_{j=1}^{i}j^2 + b\\sum_{j=1}^{i}j = \\sum_{j=1}^{i}jt_j$"
      ],
      "metadata": {
        "id": "zVoEj2T9UL9x"
      },
      "id": "zVoEj2T9UL9x"
    },
    {
      "cell_type": "markdown",
      "source": [
        "$\\frac{\\partial L}{\\partial b} \\quad = \\quad 2\\sum_{j=1}^{i}t_j - (kj+b) = \\quad 2\\sum_{j=1}^{i}t_j - kj - b$\n",
        "\n",
        "$\\frac{\\partial L}{\\partial b} = 0 \\quad \\Rightarrow \\quad \\sum_{j=1}^{i}t_j-kj-b = 0$\n",
        "\n",
        "$\\Rightarrow \\quad \\sum_{j=1}^{i}t_j - \\sum_{j=1}^{i}kj - \\sum_{j=1}^{i}b = 0$\n",
        "\n",
        "$\\Rightarrow \\quad \\sum_{j=1}^{i}t_j - k\\sum_{j=1}^{i}j - i*b = 0$\n",
        "\n",
        "\n",
        "$\\therefore \\quad k\\sum_{j=1}^{i}j + i*b = \\sum_{j=1}^{i}t_j$\n"
      ],
      "metadata": {
        "id": "u5tMq4jlUQYt"
      },
      "id": "u5tMq4jlUQYt"
    },
    {
      "cell_type": "markdown",
      "source": [
        "### By solving\n",
        "\n",
        "$$\n",
        "\\begin{align*}\n",
        "k\\sum_{j=1}^{i}j^2+b\\sum_{j=1}^{i}j &= \\sum_{j=1}^{i}jt_j \\\\\n",
        "k\\sum_{j=1}^{i}j + b*i &= \\sum_{j=1}^{i}t_j\n",
        "\\end{align*}\n",
        "$$"
      ],
      "metadata": {
        "id": "qdD98sMrWgmi"
      },
      "id": "qdD98sMrWgmi"
    },
    {
      "cell_type": "markdown",
      "source": [
        "$\\Large b = \\frac{\\sum_{j=1}^{i}t_j \\quad - \\quad k\\sum_{j=1}^{i}j}{i}$\n",
        "\n",
        "$\\Large k = \\frac{i\\sum_{j=1}^{i}jt_j \\quad - \\quad \\sum_{j=1}^{i}j\\sum_{j=1}^{i}t_j}{i\\sum_{j=1}^{i}j^2 \\quad - \\quad (\\sum_{j=1}^{i}j)^2}$"
      ],
      "metadata": {
        "id": "sXVGuLHTY95w"
      },
      "id": "sXVGuLHTY95w"
    },
    {
      "cell_type": "markdown",
      "source": [],
      "metadata": {
        "id": "w2S3hNpuY4JK"
      },
      "id": "w2S3hNpuY4JK"
    },
    {
      "metadata": {
        "ExecuteTime": {
          "end_time": "2024-09-30T08:14:46.476123Z",
          "start_time": "2024-09-30T08:14:46.472547Z"
        },
        "id": "90005f994739e489"
      },
      "cell_type": "code",
      "source": [
        "class ETAOnlinePredictor:\n",
        "    \"\"\"\n",
        "    Class for predicting remaining completion time of task sequences\n",
        "    \"\"\"\n",
        "    def __init__(self, total_tasks: int):\n",
        "        self.total_tasks = total_tasks\n",
        "        self.i = 0\n",
        "        self.sum_j = 0.0\n",
        "        self.sum_t = 0.0\n",
        "        self.sum_jt = 0.0\n",
        "        self.sum_j_square = 0.0\n",
        "        self.last_timestamp = 0.0\n",
        "\n",
        "    def add_event(self,\n",
        "                  timestamp: float):\n",
        "        \"\"\"\n",
        "        Adds the next event with specified timestamp, i.e. some task is processed and\n",
        "        we are logging its completion time\n",
        "\n",
        "        Parameters\n",
        "        ----------\n",
        "        timestamp: float\n",
        "            timestamp of the event\n",
        "        \"\"\"\n",
        "        self.i += 1\n",
        "        j = self.i\n",
        "        t = timestamp\n",
        "        self.sum_j += j\n",
        "        self.sum_t += t\n",
        "        self.sum_jt += j * t\n",
        "        self.sum_j_square += j * j\n",
        "        self.last_timestamp = t\n",
        "\n",
        "    def expected_remaining_time(self):\n",
        "        \"\"\"\n",
        "        Calculates expected remaining time\n",
        "\n",
        "        Returns\n",
        "        -------\n",
        "            Expected timestamp of the event numbered \"total_tasks\"\n",
        "        \"\"\"\n",
        "        if self.i < 2:\n",
        "            return 0.0\n",
        "\n",
        "        k_denominator = self.i * self.sum_j_square - self.sum_j * self.sum_j\n",
        "        if k_denominator == 0:\n",
        "            return 0.0\n",
        "\n",
        "        k = (self.i * self.sum_jt - self.sum_j * self.sum_t) / k_denominator\n",
        "        b = (self.sum_t - k * self.sum_j) / self.i\n",
        "\n",
        "        y = k * self.total_tasks + b\n",
        "        remaining_time = y - self.last_timestamp\n",
        "\n",
        "        return remaining_time\n",
        ""
      ],
      "id": "90005f994739e489",
      "outputs": [],
      "execution_count": 22
    },
    {
      "metadata": {
        "ExecuteTime": {
          "end_time": "2024-09-30T08:21:44.464420Z",
          "start_time": "2024-09-30T08:21:34.276419Z"
        },
        "colab": {
          "base_uri": "https://localhost:8080/"
        },
        "id": "15868deec33b1d24",
        "outputId": "a6dade1a-babc-4141-b8e4-851798765aed"
      },
      "cell_type": "code",
      "source": [
        "eta_predictor = ETAOnlinePredictor(11)\n",
        "eta_predictor.add_event(0)\n",
        "for i in range(10):\n",
        "    eta_predictor.add_event(i + 1)\n",
        "    print(\"Expected remaining time:\",\n",
        "          eta_predictor.expected_remaining_time(),\n",
        "          f\" Ref: {9 - i} \",\n",
        "          \"Error\" if abs(9 - i - eta_predictor.expected_remaining_time()) > 1e-3 else \"Ok\")\n"
      ],
      "id": "15868deec33b1d24",
      "outputs": [
        {
          "output_type": "stream",
          "name": "stdout",
          "text": [
            "Expected remaining time: 9.0  Ref: 9  Ok\n",
            "Expected remaining time: 8.0  Ref: 8  Ok\n",
            "Expected remaining time: 7.0  Ref: 7  Ok\n",
            "Expected remaining time: 6.0  Ref: 6  Ok\n",
            "Expected remaining time: 5.0  Ref: 5  Ok\n",
            "Expected remaining time: 4.0  Ref: 4  Ok\n",
            "Expected remaining time: 3.0  Ref: 3  Ok\n",
            "Expected remaining time: 2.0  Ref: 2  Ok\n",
            "Expected remaining time: 1.0  Ref: 1  Ok\n",
            "Expected remaining time: 0.0  Ref: 0  Ok\n"
          ]
        }
      ],
      "execution_count": 23
    },
    {
      "cell_type": "code",
      "source": [
        "import time\n",
        "import random\n",
        "\n",
        "eta_predictor = ETAOnlinePredictor(11)\n",
        "eta_predictor.add_event(time.time())\n",
        "for i in range(10):\n",
        "    time.sleep(random.uniform(0.5, 1.5))\n",
        "    eta_predictor.add_event(time.time())\n",
        "    print(\"Expected remaining time: \", f\"{eta_predictor.expected_remaining_time():.2f}\")"
      ],
      "metadata": {
        "colab": {
          "base_uri": "https://localhost:8080/"
        },
        "id": "PEQf-bmowhqj",
        "outputId": "c96ab0de-36e0-4686-9a42-09eb63f15e5b"
      },
      "id": "PEQf-bmowhqj",
      "execution_count": 24,
      "outputs": [
        {
          "output_type": "stream",
          "name": "stdout",
          "text": [
            "Expected remaining time:  8.84\n",
            "Expected remaining time:  6.68\n",
            "Expected remaining time:  6.71\n",
            "Expected remaining time:  6.38\n",
            "Expected remaining time:  5.56\n",
            "Expected remaining time:  4.56\n",
            "Expected remaining time:  3.47\n",
            "Expected remaining time:  2.42\n",
            "Expected remaining time:  1.18\n",
            "Expected remaining time:  0.29\n"
          ]
        }
      ]
    }
  ],
  "metadata": {
    "kernelspec": {
      "display_name": "Python 3",
      "language": "python",
      "name": "python3"
    },
    "language_info": {
      "codemirror_mode": {
        "name": "ipython",
        "version": 2
      },
      "file_extension": ".py",
      "mimetype": "text/x-python",
      "name": "python",
      "nbconvert_exporter": "python",
      "pygments_lexer": "ipython2",
      "version": "2.7.6"
    },
    "colab": {
      "provenance": [],
      "include_colab_link": true
    }
  },
  "nbformat": 4,
  "nbformat_minor": 5
}